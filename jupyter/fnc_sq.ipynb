{
 "cells": [
  {
   "cell_type": "code",
   "execution_count": 9,
   "metadata": {},
   "outputs": [],
   "source": [
    "import numpy as np\n",
    "import matplotlib.pyplot as plt\n",
    "import scipy.stats as stats\n",
    "\n",
    "from matplotlib import style\n",
    "style.use('dark_background')"
   ]
  },
  {
   "cell_type": "code",
   "execution_count": 10,
   "metadata": {},
   "outputs": [
    {
     "name": "stdout",
     "output_type": "stream",
     "text": [
      "-2.1104842000009986e-10\n",
      "0.00016654287104879236\n",
      "1.9955034963359808\n"
     ]
    }
   ],
   "source": [
    "# Notebook 1\n",
    "x = [27, 31290, 65510]\n",
    "y = [2, 7, 12]\n",
    "\n",
    "x2 = [0, 0, 0]\n",
    "x2[0] = x[0] * x[0];\n",
    "x2[1] = x[1] * x[1];\n",
    "x2[2] = x[2] * x[2];\n",
    "\n",
    "n0 = x2[0] - x2[1]\n",
    "n1 = (x[0] * x2[1]) - (x[1] * x2[0])\n",
    "n2 = (y[1] * x2[0]) - (y[0] * x2[1])\n",
    "\n",
    "m0 = x2[1] - x2[2]\n",
    "m1 = (x[1] * x2[2]) - (x[2] * x2[1])\n",
    "m2 = (y[2] * x2[1]) - (y[1] * x2[2])\n",
    "\n",
    "b = ((n0 * m2) - (n2 * m0)) / ((n1 * m0) - (m1 * n0))\n",
    "c = ((b * n1) + n2) / n0\n",
    "a = (y[0] - c - (b * x[0])) / x2[0]\n",
    "\n",
    "np.disp(a)\n",
    "np.disp(b)\n",
    "np.disp(c)"
   ]
  },
  {
   "cell_type": "code",
   "execution_count": 8,
   "metadata": {},
   "outputs": [
    {
     "data": {
      "image/png": "[encoded data removed]",
      "text/plain": [
       "<Figure size 432x288 with 1 Axes>"
      ]
     },
     "metadata": {},
     "output_type": "display_data"
    }
   ],
   "source": [
    "# Notebook 2\n",
    "\n",
    "x = np.arange(start=0, stop=0xFFFF, step=10)\n",
    "\n",
    "#a = 2.3720083845546469e-005\n",
    "#b = -2.18693542\n",
    "#c = 45607.51171875\n",
    "\n",
    "i = 0\n",
    "y = np.zeros(len(x))\n",
    "while i < len(x): # całkowanie\n",
    "  y[i] = (a * x[i] * x[i]) + (b * x[i]) + c\n",
    "  i += 1\n",
    "\n",
    "plt.plot(x, y)\n",
    "plt.show()"
   ]
  },
  {
   "cell_type": "code",
   "execution_count": null,
   "metadata": {},
   "outputs": [],
   "source": [
    "# a = -9.6577224e-010\n",
    "# b = 0.000169220919\n",
    "# c = 3.60684085"
   ]
  },
  {
   "cell_type": "code",
   "execution_count": null,
   "metadata": {},
   "outputs": [],
   "source": []
  }
 ],
 "metadata": {
  "kernelspec": {
   "display_name": "Python 3",
   "language": "python",
   "name": "python3"
  },
  "language_info": {
   "codemirror_mode": {
    "name": "ipython",
    "version": 3
   },
   "file_extension": ".py",
   "mimetype": "text/x-python",
   "name": "python",
   "nbconvert_exporter": "python",
   "pygments_lexer": "ipython3",
   "version": "3.8.5"
  }
 },
 "nbformat": 4,
 "nbformat_minor": 4
}
