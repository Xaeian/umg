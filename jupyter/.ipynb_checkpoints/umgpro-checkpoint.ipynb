{
 "cells": [
  {
   "cell_type": "code",
   "execution_count": 1,
   "id": "conservative-combat",
   "metadata": {},
   "outputs": [],
   "source": [
    "import numpy as np\n",
    "import matplotlib.pyplot as plt\n",
    "import scipy.stats as stats\n",
    "import math\n",
    "\n",
    "from matplotlib import style\n",
    "from matplotlib.pyplot import figure\n",
    "style.use('ggplot')"
   ]
  },
  {
   "cell_type": "code",
   "execution_count": 3,
   "id": "funky-split",
   "metadata": {},
   "outputs": [
    {
     "data": {
      "text/plain": [
       "144.0"
      ]
     },
     "execution_count": 3,
     "metadata": {},
     "output_type": "execute_result"
    }
   ],
   "source": [
    "battery_series = 4\n",
    "battery_count = 8\n",
    "battery_capatity = 3 # [Ah]\n",
    "\n",
    "max_voltage = 4.2 * battery_series\n",
    "typical_voltage = 3.6 * battery_series\n",
    "\n",
    "panel_count = 24\n",
    "panel_capatity = battery_capatity * battery_count / battery_series \n",
    "\n",
    "system_capatity = panel_count * panel_capatity\n",
    "system_capatity"
   ]
  },
  {
   "cell_type": "code",
   "execution_count": null,
   "id": "bored-constitution",
   "metadata": {},
   "outputs": [],
   "source": []
  }
 ],
 "metadata": {
  "kernelspec": {
   "display_name": "Python 3",
   "language": "python",
   "name": "python3"
  },
  "language_info": {
   "codemirror_mode": {
    "name": "ipython",
    "version": 3
   },
   "file_extension": ".py",
   "mimetype": "text/x-python",
   "name": "python",
   "nbconvert_exporter": "python",
   "pygments_lexer": "ipython3",
   "version": "3.8.5"
  }
 },
 "nbformat": 4,
 "nbformat_minor": 5
}
