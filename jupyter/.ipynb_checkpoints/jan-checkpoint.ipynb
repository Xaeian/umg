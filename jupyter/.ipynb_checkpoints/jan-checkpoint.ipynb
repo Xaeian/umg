{
 "cells": [
  {
   "cell_type": "code",
   "execution_count": 31,
   "metadata": {},
   "outputs": [
    {
     "data": {
      "text/plain": [
       "553913.5101889758"
      ]
     },
     "execution_count": 31,
     "metadata": {},
     "output_type": "execute_result"
    }
   ],
   "source": [
    "perc = 11\n",
    "x = 400000\n",
    "cap = 4\n",
    "year = 3\n",
    "y = x * pow(1 + (perc / (100 * cap)),(year * cap))\n",
    "y"
   ]
  },
  {
   "cell_type": "code",
   "execution_count": 30,
   "metadata": {},
   "outputs": [
    {
     "data": {
      "text/plain": [
       "7.95"
      ]
     },
     "execution_count": 30,
     "metadata": {},
     "output_type": "execute_result"
    }
   ],
   "source": [
    "# P0 - cena akcji \n",
    "\n",
    "# D0 - dywidenda wypłacona\n",
    "# D1 - dywidenda za rok\n",
    "\n",
    "# g - tempo wzrostu dywidendy\n",
    "r = 12 # r - wymagana stopa zwrotu\n",
    "D0 = 27000\n",
    "g = 0.06\n",
    "\n",
    "D1 = D0 * (1 + g)\n",
    " \n",
    "P = D1 / (r * g)\n",
    "\n",
    "P / 5000"
   ]
  },
  {
   "cell_type": "code",
   "execution_count": null,
   "metadata": {},
   "outputs": [],
   "source": [
    "Rp = 400000\n",
    "\n",
    "\n",
    "W = (Rl * (1 - (1 / pow((1 + r),n))) / r) + (Wr / pow((1 + r),n))"
   ]
  },
  {
   "cell_type": "code",
   "execution_count": 44,
   "metadata": {},
   "outputs": [
    {
     "data": {
      "text/plain": [
       "50411.066818527725"
      ]
     },
     "execution_count": 44,
     "metadata": {},
     "output_type": "execute_result"
    }
   ],
   "source": [
    "WP = 100000\n",
    "n = 2 # kwartał 3 miesiące\n",
    "r = (7.25 / 6) / 100\n",
    "WR = WP * 0.01\n",
    "\n",
    "x = pow((1 + r),n);\n",
    "RL = (WP - (WR / x)) / ((1 - (1/x))/r)\n",
    "RL"
   ]
  },
  {
   "cell_type": "code",
   "execution_count": 42,
   "metadata": {},
   "outputs": [
    {
     "data": {
      "text/plain": [
       "471619.3091549932"
      ]
     },
     "execution_count": 42,
     "metadata": {},
     "output_type": "execute_result"
    }
   ],
   "source": [
    "RL * n"
   ]
  },
  {
   "cell_type": "code",
   "execution_count": null,
   "metadata": {},
   "outputs": [],
   "source": [
    "39"
   ]
  }
 ],
 "metadata": {
  "kernelspec": {
   "display_name": "Python 3",
   "language": "python",
   "name": "python3"
  },
  "language_info": {
   "codemirror_mode": {
    "name": "ipython",
    "version": 3
   },
   "file_extension": ".py",
   "mimetype": "text/x-python",
   "name": "python",
   "nbconvert_exporter": "python",
   "pygments_lexer": "ipython3",
   "version": "3.8.5"
  }
 },
 "nbformat": 4,
 "nbformat_minor": 4
}
