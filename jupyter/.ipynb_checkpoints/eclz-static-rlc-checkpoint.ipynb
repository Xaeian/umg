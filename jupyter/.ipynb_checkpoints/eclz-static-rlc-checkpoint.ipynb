{
 "cells": [
  {
   "cell_type": "code",
   "execution_count": 2,
   "id": "portable-idaho",
   "metadata": {},
   "outputs": [],
   "source": [
    "import numpy as np\n",
    "import matplotlib.pyplot as plt\n",
    "import scipy.stats as stats\n",
    "import math\n",
    "import sys\n",
    "\n",
    "sys.path.append(\"./markdown.py\")\n",
    "import markdown as md\n",
    "\n",
    "from matplotlib import style\n",
    "from matplotlib.pyplot import figure\n",
    "style.use('ggplot')\n",
    "plt_height = 7\n",
    "plt_length = 18\n",
    "\n",
    "md_head = ['I[A]', 'U[V]', 'Time', 'R[Ω]']\n",
    "md_fields = [0, 1, 2, 3]\n",
    "md_align = [('>', '>'), ('>', '>'), ('>', '>'), ('>', '>')]"
   ]
  },
  {
   "cell_type": "code",
   "execution_count": 3,
   "id": "trying-reply",
   "metadata": {},
   "outputs": [
    {
     "name": "stdout",
     "output_type": "stream",
     "text": [
      "|  I[A] | U[V] | Time |  R[Ω] |\n",
      "| ----: | ---: | ---: | ----: |\n",
      "|   4.9 | 2.27 | 8:57 | 0.463 |\n",
      "|  7.97 | 2.46 | 5:10 | 0.309 |\n",
      "|  11.9 | 2.86 | 3:27 |  0.24 |\n",
      "| 16.46 | 3.22 | 2:36 | 0.196 |\n",
      "| 20.15 | 3.45 |  2:2 | 0.171 |\n",
      "| 25.03 | 3.75 | 1:39 |  0.15 |\n",
      "| 29.96 | 3.86 | 1:13 | 0.129 |\n",
      "| 35.03 | 3.93 |  1:0 | 0.112 |\n",
      "| 39.58 | 4.02 | 0:50 | 0.102 |\n",
      "| 44.79 | 4.15 | 0:42 | 0.093 |\n"
     ]
    }
   ],
   "source": [
    "Ix = [4.90, 7.97, 11.9, 16.46, 20.15, 25.03, 29.96, 35.03, 39.58, 44.79]\n",
    "Ux = [2.27, 2.46, 2.86, 3.22, 3.45, 3.75, 3.86, 3.93, 4.02, 4.15]\n",
    "tx = [\"8:57\", \"5:10\", \"3:27\", \"2:36\", \"2:2\", \"1:39\", \"1:13\", \"1:0\", \"0:50\", \"0:42\"]\n",
    "    \n",
    "    \n",
    "lx = len(tx)\n",
    "secx = np.zeros(lx)\n",
    "\n",
    "for i in range(lx):\n",
    "    secx[i] = sum([a * b for a,b in zip([60,1], map(int,tx[i].split(':')))])\n",
    "\n",
    "Rx = [a / b for a, b in zip(Ux, Ix)]\n",
    "Px = [a * b for a, b in zip(Ix, Ux)]\n",
    "Wx = [a * b for a, b in zip(Px, secx)]\n",
    "\n",
    "array = [0 for i in range(lx)] \n",
    "for i in range(lx):\n",
    "    array[i] = [Ix[i], Ux[i], tx[i], round(Rx[i], 3)]\n",
    "\n",
    "md.table(sys.stdout, array, md_fields, md_head, md_align)"
   ]
  },
  {
   "cell_type": "code",
   "execution_count": 4,
   "id": "false-rocket",
   "metadata": {},
   "outputs": [
    {
     "name": "stdout",
     "output_type": "stream",
     "text": [
      "|  I[A] |  U[V] |  Time |  R[Ω] |\n",
      "| ----: | ----: | ----: | ----: |\n",
      "|   3.9 |  6.53 | 11:10 | 1.674 |\n",
      "|  5.01 |  7.33 | 08:30 | 1.463 |\n",
      "| 6.979 | 8.919 | 05:52 | 1.278 |\n",
      "| 7.599 | 9.129 | 05:11 | 1.201 |\n",
      "| 8.679 | 9.699 | 04:20 | 1.118 |\n",
      "| 10.23 | 10.32 | 03:46 | 1.009 |\n",
      "| 12.13 | 11.38 | 03:09 | 0.938 |\n",
      "|  13.7 | 12.11 | 02:38 | 0.884 |\n",
      "| 15.16 | 12.49 | 02:31 | 0.824 |\n"
     ]
    }
   ],
   "source": [
    "I0 = [3.900, 5.010, 6.979, 7.599, 8.679, 10.23, 12.13, 13.70, 15.16]\n",
    "U0 = [6.530, 7.330, 8.919, 9.129, 9.699, 10.32, 11.38, 12.11, 12.49]\n",
    "t0 = [\"11:10\", \"08:30\", \"05:52\", \"05:11\", \"04:20\", \"03:46\", \"03:09\", \"02:38\", \"02:31\"]\n",
    "l0 = len(t0)\n",
    "sec0 = np.zeros(l0)\n",
    "\n",
    "for i in range(l0):\n",
    "    sec0[i] = sum([a * b for a,b in zip([60,1], map(int,t0[i].split(':')))])\n",
    "\n",
    "R0 = [a / b for a, b in zip(U0, I0)]\n",
    "P0 = [a * b for a, b in zip(I0, U0)]\n",
    "W0 = [a * b for a, b in zip(P0, sec0)]\n",
    "\n",
    "array = [0 for i in range(l0)] \n",
    "for i in range(l0):\n",
    "    array[i] = [I0[i], U0[i], t0[i], round(R0[i], 3)]\n",
    "\n",
    "md.table(sys.stdout, array, md_fields, md_head, md_align)"
   ]
  },
  {
   "cell_type": "code",
   "execution_count": 5,
   "id": "complimentary-accessory",
   "metadata": {},
   "outputs": [
    {
     "name": "stdout",
     "output_type": "stream",
     "text": [
      "|  I[A] | U[V] |  Time |  R[Ω] |\n",
      "| ----: | ---: | ----: | ----: |\n",
      "|  4.05 | 3.82 | 10:10 | 0.943 |\n",
      "|  5.57 | 3.92 | 08:12 | 0.704 |\n",
      "|  8.08 | 4.12 | 05:00 |  0.51 |\n",
      "| 11.19 |  4.3 | 03:32 | 0.384 |\n",
      "| 14.83 | 4.54 | 02:30 | 0.306 |\n",
      "|  16.7 | 4.62 | 02:13 | 0.277 |\n",
      "| 20.46 | 4.97 | 01:48 | 0.243 |\n",
      "| 23.52 | 5.15 | 01:34 | 0.219 |\n",
      "| 28.73 | 5.66 | 01:17 | 0.197 |\n",
      "| 33.76 | 5.87 | 01:06 | 0.174 |\n",
      "| 39.47 | 6.18 | 00:56 | 0.157 |\n",
      "|  47.5 | 6.58 | 00:46 | 0.139 |\n",
      "|  54.5 | 6.93 | 00:42 | 0.127 |\n",
      "|  67.3 | 7.53 | 00:33 | 0.112 |\n",
      "|  82.9 | 8.44 | 00:27 | 0.102 |\n"
     ]
    }
   ],
   "source": [
    "I2 = [4.05, 5.57, 8.08, 11.19, 14.83, 16.70, 20.46, 23.52, 28.73, 33.76, 39.47, 47.50, 54.5, 67.3, 82.90]\n",
    "U2 = [3.82,3.92,4.12,4.30,4.54, 4.62, 4.97, 5.15,5.66, 5.87, 6.18, 6.58, 6.93, 7.53, 8.44]\n",
    "t2 = [\"10:10\", \"08:12\", \"05:00\" , \"03:32\", \"02:30\", \"02:13\", \"01:48\", \"01:34\", \"01:17\", \"01:06\", \"00:56\", \"00:46\", \"00:42\", \"00:33\", \"00:27\"]\n",
    "l2 = len(t2)\n",
    "sec2 = np.zeros(l2)\n",
    "\n",
    "for i in range(l2):\n",
    "    sec2[i] = sum([a * b for a,b in zip([60,1], map(int,t2[i].split(':')))])\n",
    "\n",
    "R2 = [a / b for a, b in zip(U2, I2)]\n",
    "P2 = [a * b for a, b in zip(I2, U2)]\n",
    "W2 = [a * b for a, b in zip(P2, sec2)]\n",
    "\n",
    "array = [0 for i in range(l2)] \n",
    "for i in range(l2):\n",
    "    array[i] = [I2[i], U2[i], t2[i], round(R2[i], 3)]\n",
    "\n",
    "md.table(sys.stdout, array, md_fields, md_head, md_align)"
   ]
  },
  {
   "cell_type": "code",
   "execution_count": 4,
   "id": "animal-elevation",
   "metadata": {},
   "outputs": [
    {
     "name": "stdout",
     "output_type": "stream",
     "text": [
      "|  I[A] | U[V] |  Time |  R[Ω] |\n",
      "| ----: | ---: | ----: | ----: |\n",
      "|  4.05 | 3.82 | 10:10 | 0.943 |\n",
      "|  5.57 | 3.92 | 08:12 | 0.704 |\n",
      "|  8.08 | 4.12 | 05:00 |  0.51 |\n",
      "| 11.19 |  4.3 | 03:32 | 0.384 |\n",
      "| 14.83 | 4.54 | 02:30 | 0.306 |\n",
      "|  16.7 | 4.62 | 02:13 | 0.277 |\n",
      "| 20.46 | 4.97 | 01:48 | 0.243 |\n",
      "| 23.52 | 5.15 | 01:34 | 0.219 |\n",
      "| 28.73 | 5.66 | 01:17 | 0.197 |\n",
      "| 33.76 | 5.87 | 01:06 | 0.174 |\n",
      "| 39.47 | 6.18 | 00:56 | 0.157 |\n",
      "|  47.5 | 6.58 | 00:46 | 0.139 |\n",
      "|  54.5 | 6.93 | 00:42 | 0.127 |\n",
      "|  67.3 | 7.53 | 00:33 | 0.112 |\n",
      "|  82.9 | 8.44 | 00:27 | 0.102 |\n"
     ]
    }
   ],
   "source": [
    "I2 = [4.05, 5.57, 8.08, 11.19, 14.83, 16.70, 20.46, 23.52, 28.73, 33.76, 39.47, 47.50, 54.5, 67.3, 82.90]\n",
    "U2 = [3.82,3.92,4.12,4.30,4.54, 4.62, 4.97, 5.15,5.66, 5.87, 6.18, 6.58, 6.93, 7.53, 8.44]\n",
    "t2 = [\"10:10\", \"08:12\", \"05:00\" , \"03:32\", \"02:30\", \"02:13\", \"01:48\", \"01:34\", \"01:17\", \"01:06\", \"00:56\", \"00:46\", \"00:42\", \"00:33\", \"00:27\"]\n",
    "l2 = len(t2)\n",
    "sec2 = np.zeros(l2)\n",
    "\n",
    "for i in range(l2):\n",
    "    sec2[i] = sum([a * b for a,b in zip([60,1], map(int,t2[i].split(':')))])\n",
    "\n",
    "R2 = [a / b for a, b in zip(U2, I2)]\n",
    "P2 = [a * b for a, b in zip(I2, U2)]\n",
    "W2 = [a * b for a, b in zip(P2, sec2)]\n",
    "\n",
    "array = [0 for i in range(l2)] \n",
    "for i in range(l2):\n",
    "    array[i] = [I2[i], U2[i], t2[i], round(R2[i], 3)]\n",
    "\n",
    "md.table(sys.stdout, array, md_fields, md_head, md_align)"
   ]
  },
  {
   "cell_type": "code",
   "execution_count": 7,
   "id": "further-morocco",
   "metadata": {},
   "outputs": [
    {
     "name": "stdout",
     "output_type": "stream",
     "text": [
      "|  I[A] | U[V] |  Time |  R[Ω] |\n",
      "| ----: | ---: | ----: | ----: |\n",
      "|  4.18 |  3.7 | 13:42 | 0.885 |\n",
      "|  5.07 | 3.75 | 09:35 |  0.74 |\n",
      "|  6.62 | 3.81 | 06:22 | 0.576 |\n",
      "|   8.4 | 3.87 | 04:52 | 0.461 |\n",
      "| 10.15 | 3.92 | 04:00 | 0.386 |\n",
      "| 12.47 | 3.99 | 03:09 |  0.32 |\n",
      "| 16.13 |  4.1 | 02:22 | 0.254 |\n",
      "| 19.15 | 4.16 | 01:59 | 0.217 |\n",
      "| 22.14 | 4.24 | 01:44 | 0.192 |\n",
      "| 25.09 | 4.31 | 01:31 | 0.172 |\n",
      "| 29.09 | 4.39 | 01:17 | 0.151 |\n",
      "| 34.68 | 4.52 | 01:05 |  0.13 |\n",
      "| 39.83 | 4.63 | 00:56 | 0.116 |\n",
      "|  45.8 | 4.76 | 00:48 | 0.104 |\n",
      "|  52.9 | 4.93 | 00:41 | 0.093 |\n",
      "|  61.8 | 5.09 | 00:36 | 0.082 |\n",
      "|  71.7 |  5.3 | 00:30 | 0.074 |\n",
      "|  82.2 | 5.51 | 00:26 | 0.067 |\n"
     ]
    }
   ],
   "source": [
    "I5 = [4.18, 5.07, 6.62, 8.40, 10.15, 12.47, 16.13, 19.15, 22.14, 25.09, 29.09, 34.68, 39.83, 45.80, 52.90, 61.80, 71.70, 82.20]\n",
    "U5 = [3.70, 3.75, 3.81, 3.87, 3.92, 3.99, 4.10, 4.16, 4.24, 4.31, 4.39, 4.52, 4.63, 4.76, 4.93, 5.09, 5.30, 5.51]\n",
    "t5 = [\"13:42\", \"09:35\", \"06:22\", \"04:52\", \"04:00\", \"03:09\", \"02:22\", \"01:59\", \"01:44\", \"01:31\", \"01:17\", \"01:05\", \"00:56\", \"00:48\", \"00:41\", \"00:36\", \"00:30\", \"00:26\"]\n",
    "\n",
    "l5 = len(t5)\n",
    "sec5 = np.zeros(l5)\n",
    "\n",
    "for i in range(l5):\n",
    "    sec5[i] = sum([a * b for a,b in zip([60,1], map(int,t5[i].split(':')))])\n",
    "\n",
    "R5 = [a / b for a, b in zip(U5, I5)]\n",
    "P5 = [a * b for a, b in zip(I5, U5)]\n",
    "W5 = [a * b for a, b in zip(P5, sec5)]\n",
    "\n",
    "array = [0 for i in range(l5)] \n",
    "for i in range(l5):\n",
    "    array[i] = [I5[i], U5[i], t5[i], round(R5[i], 3)]\n",
    "\n",
    "md.table(sys.stdout, array, md_fields, md_head, md_align)"
   ]
  },
  {
   "cell_type": "code",
   "execution_count": 9,
   "id": "brief-specific",
   "metadata": {},
   "outputs": [
    {
     "name": "stdout",
     "output_type": "stream",
     "text": [
      "|  I[A] | U[V] |  Time |  R[Ω] |\n",
      "| ----: | ---: | ----: | ----: |\n",
      "|  4.35 | 3.47 | 15:54 | 0.798 |\n",
      "|  5.36 | 3.59 | 09:59 |  0.67 |\n",
      "|  6.63 | 3.67 | 07:26 | 0.554 |\n",
      "|  7.99 | 3.74 | 05:48 | 0.468 |\n",
      "| 10.38 | 3.81 | 04:15 | 0.367 |\n",
      "| 12.09 | 3.85 | 03:32 | 0.318 |\n",
      "| 14.02 | 3.91 | 03:02 | 0.279 |\n",
      "|  17.0 | 3.97 | 02:25 | 0.234 |\n",
      "| 20.79 | 4.06 | 01:57 | 0.195 |\n",
      "|  25.6 | 4.15 | 01:34 | 0.162 |\n",
      "|  30.3 | 4.23 | 01:17 |  0.14 |\n",
      "| 36.09 | 4.33 | 01:04 |  0.12 |\n",
      "|  41.6 | 4.42 | 00:54 | 0.106 |\n",
      "|  50.5 | 4.57 | 00:44 |  0.09 |\n",
      "|  61.7 | 4.74 | 00:36 | 0.077 |\n",
      "|  61.7 | 4.84 | 00:36 | 0.078 |\n",
      "|  73.5 |  4.9 | 00:28 | 0.067 |\n"
     ]
    }
   ],
   "source": [
    "I10 = [4.35, 5.36, 6.63, 7.99, 10.38, 12.09, 14.02, 17.00, 20.79, 25.60, 30.30, 36.09, 41.60, 50.50, 61.7, 61.7, 73.5]\n",
    "U10 = [3.47, 3.59, 3.67, 3.74, 3.81, 3.85, 3.91, 3.97, 4.06, 4.15, 4.23, 4.33, 4.42, 4.57, 4.74, 4.84, 4.90]\n",
    "t10 = [\"15:54\", \"09:59\", \"07:26\", \"05:48\", \"04:15\", \"03:32\", \"03:02\", \"02:25\", \"01:57\", \"01:34\", \"01:17\", \"01:04\", \"00:54\", \"00:44\", \"00:36\", \"00:36\", \"00:28\"] \n",
    "\n",
    "l10 = len(t10)\n",
    "sec10 = np.zeros(l10)\n",
    "\n",
    "for i in range(l10):\n",
    "    sec10[i] = sum([a * b for a,b in zip([60,1], map(int,t10[i].split(':')))])\n",
    "\n",
    "R10 = [a / b for a, b in zip(U10, I10)]\n",
    "P10 = [a * b for a, b in zip(I10, U10)]\n",
    "W10 = [a * b for a, b in zip(P10, sec10)]\n",
    "\n",
    "array = [0 for i in range(l10)] \n",
    "for i in range(l10):\n",
    "    array[i] = [I10[i], U10[i], t10[i], round(R10[i], 3)]\n",
    "\n",
    "md.table(sys.stdout, array, md_fields, md_head, md_align)"
   ]
  },
  {
   "cell_type": "code",
   "execution_count": 10,
   "id": "awful-suffering",
   "metadata": {},
   "outputs": [
    {
     "data": {
      "image/png": "[encoded data removed]",
      "text/plain": [
       "<Figure size 1296x504 with 1 Axes>"
      ]
     },
     "metadata": {},
     "output_type": "display_data"
    }
   ],
   "source": [
    "figure(1, figsize=(plt_length, plt_height)) \n",
    "plt.plot(Ix, secx)\n",
    "plt.plot(I0, sec0)\n",
    "plt.plot(I2, sec2)\n",
    "plt.plot(I5, sec5)\n",
    "plt.plot(I10, sec10)\n",
    "plt.xlabel(\"Prąd [A]\")\n",
    "plt.ylabel(\"Czas [s]\")\n",
    "plt.legend([\"Stary roztwór - duże stężenie\", \"Szczątkowe stężenie\", \"Stężenie ~2‰\", \"Stężenie ~5‰\", \"Stężenie ~10‰\"])\n",
    "plt.margins(0.01, 0.02)\n",
    "plt.savefig(\"./png/eclz-static-time.png\", bbox_inches = 'tight')\n",
    "plt.savefig(\"./pdf/eclz-static-time.pdf\", bbox_inches = 'tight')\n",
    "plt.show()"
   ]
  },
  {
   "cell_type": "code",
   "execution_count": 11,
   "id": "wrong-television",
   "metadata": {},
   "outputs": [
    {
     "ename": "SyntaxError",
     "evalue": "closing parenthesis ']' does not match opening parenthesis '(' (<ipython-input-11-9d06e9eb253d>, line 9)",
     "output_type": "error",
     "traceback": [
      "\u001b[1;36m  File \u001b[1;32m\"<ipython-input-11-9d06e9eb253d>\"\u001b[1;36m, line \u001b[1;32m9\u001b[0m\n\u001b[1;33m    plt.legend([\"Stary roztwór - duże stężenie\", \"Szczątkowe stężenie\", \"Stężenie ~2‰\", \"Stężenie ~5‰\", \"Stężenie ~10‰\"]])\u001b[0m\n\u001b[1;37m                                                                                                                        ^\u001b[0m\n\u001b[1;31mSyntaxError\u001b[0m\u001b[1;31m:\u001b[0m closing parenthesis ']' does not match opening parenthesis '('\n"
     ]
    }
   ],
   "source": [
    "figure(1, figsize=(plt_length, plt_height)) \n",
    "plt.plot(Ix, Rx)\n",
    "plt.plot(I0, R0)\n",
    "plt.plot(I2, R2)\n",
    "plt.plot(I5, R5)\n",
    "plt.plot(I10, R10)\n",
    "plt.xlabel(\"Prąd [A]\")\n",
    "plt.ylabel(\"Rezystaqncja [Ω]\")\n",
    "plt.legend([\"Stary roztwór - duże stężenie\", \"Szczątkowe stężenie\", \"Stężenie ~2‰\", \"Stężenie ~5‰\", \"Stężenie ~10‰\"])\n",
    "plt.margins(0.01, 0.02)\n",
    "plt.savefig(\"./png/eclz-static-ohm.png\", bbox_inches = 'tight')\n",
    "plt.savefig(\"./pdf/eclz-static-ohm.pdf\", bbox_inches = 'tight')\n",
    "plt.show()"
   ]
  },
  {
   "cell_type": "code",
   "execution_count": null,
   "id": "beginning-cambodia",
   "metadata": {},
   "outputs": [],
   "source": []
  }
 ],
 "metadata": {
  "kernelspec": {
   "display_name": "Python 3",
   "language": "python",
   "name": "python3"
  },
  "language_info": {
   "codemirror_mode": {
    "name": "ipython",
    "version": 3
   },
   "file_extension": ".py",
   "mimetype": "text/x-python",
   "name": "python",
   "nbconvert_exporter": "python",
   "pygments_lexer": "ipython3",
   "version": "3.8.5"
  }
 },
 "nbformat": 4,
 "nbformat_minor": 5
}
